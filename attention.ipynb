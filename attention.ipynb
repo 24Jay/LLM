{
 "cells": [
  {
   "cell_type": "markdown",
   "id": "6ed06ce7-6803-4cd4-a2f4-9d72fbefbe99",
   "metadata": {},
   "source": [
    "import torch\n",
    "import torch.nn.functional as F"
   ]
  },
  {
   "cell_type": "markdown",
   "id": "8f713978-8604-4fa8-8b86-dc91b6e2cb02",
   "metadata": {},
   "source": [
    "# Attention\n",
    "\n",
    "https://easyai.tech/ai-definition/attention/"
   ]
  },
  {
   "cell_type": "code",
   "execution_count": 1,
   "id": "0aa14561-462b-4265-9d13-6c213f182e65",
   "metadata": {},
   "outputs": [
    {
     "name": "stdout",
     "output_type": "stream",
     "text": [
      "/Users/quantux/opt/mamba/bin/python\n"
     ]
    }
   ],
   "source": [
    "!which python"
   ]
  },
  {
   "cell_type": "code",
   "execution_count": 8,
   "id": "6fc712fa-3253-47ec-ad3e-1c1fca356e69",
   "metadata": {},
   "outputs": [],
   "source": [
    "import torch\n",
    "import torch.nn.functional as F"
   ]
  },
  {
   "cell_type": "code",
   "execution_count": 3,
   "id": "b1dee15b-46ca-4f68-8c19-ab489a805ed9",
   "metadata": {},
   "outputs": [
    {
     "name": "stdout",
     "output_type": "stream",
     "text": [
      "/Users/quantux/opt/mamba/bin/python\n"
     ]
    }
   ],
   "source": [
    "import sys\n",
    "print(sys.executable)"
   ]
  },
  {
   "cell_type": "code",
   "execution_count": 30,
   "id": "0461375f-1b46-4ae5-8d1c-5b18412c546d",
   "metadata": {},
   "outputs": [
    {
     "data": {
      "text/plain": [
       "tensor([[ 1.,  2.,  1.],\n",
       "        [-1., -1., -2.]])"
      ]
     },
     "execution_count": 30,
     "metadata": {},
     "output_type": "execute_result"
    }
   ],
   "source": [
    "x1 = torch.tensor([[1, 2, 1],[-1, -1,-2.0]])\n",
    "x2 = torch.tensor([[2, 2, 1],[-1,-2, -1.0]])\n",
    "\n",
    "x1"
   ]
  },
  {
   "cell_type": "code",
   "execution_count": 31,
   "id": "38fdda40-0be0-4712-b441-5f61ad12f94d",
   "metadata": {},
   "outputs": [
    {
     "data": {
      "text/plain": [
       "tensor([[ 2.,  2.,  1.],\n",
       "        [-1., -2., -1.]])"
      ]
     },
     "execution_count": 31,
     "metadata": {},
     "output_type": "execute_result"
    }
   ],
   "source": [
    "x2"
   ]
  },
  {
   "cell_type": "code",
   "execution_count": 32,
   "id": "46226ed9-2599-43c8-aa2d-9e21af810d0f",
   "metadata": {},
   "outputs": [
    {
     "data": {
      "text/plain": [
       "tensor([[ 7., -6.],\n",
       "        [-6.,  5.]])"
      ]
     },
     "execution_count": 32,
     "metadata": {},
     "output_type": "execute_result"
    }
   ],
   "source": [
    "raw_weights = torch.matmul(x1, x2.transpose(0,1))\n",
    "raw_weights"
   ]
  },
  {
   "cell_type": "code",
   "execution_count": 34,
   "id": "02347f5d-92e5-4712-8b6b-73a5afdcc224",
   "metadata": {},
   "outputs": [
    {
     "data": {
      "text/plain": [
       "tensor([[1.0000e+00, 1.6701e-05],\n",
       "        [2.2603e-06, 9.9998e-01]])"
      ]
     },
     "execution_count": 34,
     "metadata": {},
     "output_type": "execute_result"
    }
   ],
   "source": [
    "attn_weights = F.softmax(raw_weights, dim=0)\n",
    "attn_weights"
   ]
  },
  {
   "cell_type": "code",
   "execution_count": 35,
   "id": "6b2db1a8-010f-41c7-9e85-ec3168b11793",
   "metadata": {},
   "outputs": [
    {
     "data": {
      "text/plain": [
       "tensor([[ 2.0000,  2.0000,  1.0000],\n",
       "        [-1.0000, -2.0000, -1.0000]])"
      ]
     },
     "execution_count": 35,
     "metadata": {},
     "output_type": "execute_result"
    }
   ],
   "source": [
    "attn_outputs = torch.matmul(attn_weights, x2)\n",
    "attn_outputs"
   ]
  },
  {
   "cell_type": "code",
   "execution_count": null,
   "id": "51e8ef3c-c992-4463-812b-686339953756",
   "metadata": {},
   "outputs": [],
   "source": []
  }
 ],
 "metadata": {
  "kernelspec": {
   "display_name": "Python 3 (ipykernel)",
   "language": "python",
   "name": "python3"
  },
  "language_info": {
   "codemirror_mode": {
    "name": "ipython",
    "version": 3
   },
   "file_extension": ".py",
   "mimetype": "text/x-python",
   "name": "python",
   "nbconvert_exporter": "python",
   "pygments_lexer": "ipython3",
   "version": "3.12.9"
  }
 },
 "nbformat": 4,
 "nbformat_minor": 5
}
